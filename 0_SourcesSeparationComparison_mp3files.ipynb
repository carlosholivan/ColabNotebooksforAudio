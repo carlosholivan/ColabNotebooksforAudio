{
  "nbformat": 4,
  "nbformat_minor": 0,
  "metadata": {
    "colab": {
      "name": "0.SourcesSeparationComparison_mp3files.ipynb",
      "provenance": [],
      "collapsed_sections": [],
      "include_colab_link": true
    },
    "kernelspec": {
      "display_name": "Python 3",
      "language": "python",
      "name": "python3"
    },
    "language_info": {
      "codemirror_mode": {
        "name": "ipython",
        "version": 3
      },
      "file_extension": ".py",
      "mimetype": "text/x-python",
      "name": "python",
      "nbconvert_exporter": "python",
      "pygments_lexer": "ipython3",
      "version": "3.6.4"
    }
  },
  "cells": [
    {
      "cell_type": "markdown",
      "metadata": {
        "id": "view-in-github",
        "colab_type": "text"
      },
      "source": [
        "<a href=\"https://colab.research.google.com/github/carlosholivan/ColabNotebooksforAudio/blob/master/0_SourcesSeparationComparison_mp3files.ipynb\" target=\"_parent\"><img src=\"https://colab.research.google.com/assets/colab-badge.svg\" alt=\"Open In Colab\"/></a>"
      ]
    },
    {
      "cell_type": "markdown",
      "metadata": {
        "colab_type": "text",
        "id": "WQ-sIaqlv-j1"
      },
      "source": [
        "Licensed under the Apache License, Version 2.0 (the \"License\"); you may not use this file except in compliance with the License. You may obtain a copy of the License at\n",
        "\n",
        "https://www.apache.org/licenses/LICENSE-2.0\n",
        "\n",
        "Unless required by applicable law or agreed to in writing, software distributed under the License is distributed on an \"AS IS\" BASIS, WITHOUT WARRANTIES OR CONDITIONS OF ANY KIND, either express or implied. See the License for the specific language governing permissions and limitations under the License."
      ]
    },
    {
      "cell_type": "markdown",
      "metadata": {
        "colab_type": "text",
        "id": "I8rnd8fHwD4h"
      },
      "source": [
        "<img src=\"https://www.unizar.es/sites/default/files/identidadCorporativa/imagen/logoUZ.png\"  width=\"480\">\n",
        "\n",
        "# WAV TO MIDI\n",
        "\n",
        "\n",
        "Author: Carlos Hernández [[Github]](https://github.com/carlosholivan)\n",
        "\n",
        "Department of Electronic Engineering and Communications, Universidad de Zaragoza, Calle María de Luna 3, 50018 Zaragoza\n",
        "\n",
        "This notebook provides a comparation between 2 sources separation libraries, Demucs from Facebook and Spleeter by Deezer. \n",
        "\n",
        "WARNING: If you upload .wav files or large .mp3 files it will take a while to upload and display them."
      ]
    },
    {
      "cell_type": "markdown",
      "metadata": {
        "colab_type": "text",
        "id": "L4QpRj5E2aB9"
      },
      "source": [
        "INSTRUCTIONS:\n",
        "\n",
        "Run every cell in the notebook **in order**. Cells with \"(optional)\" are not compulsory to run."
      ]
    },
    {
      "cell_type": "markdown",
      "metadata": {
        "colab_type": "text",
        "id": "ekAMIOtVQXGk"
      },
      "source": [
        "\n",
        "\n",
        "## Table of contents\n",
        "\n",
        "- [Sources Separation](#sources-separation)\n",
        "  * [DEMUCS by Facebook](#demucs-by-facebook)\n",
        "  * [SPLEETER by Deezer](#spleeter-by-deezer)\n",
        "  * [SPLEETER vs DEMUCS](#spleeter-vs-demucs)\n"
      ]
    },
    {
      "cell_type": "code",
      "metadata": {
        "cellView": "form",
        "colab_type": "code",
        "id": "oO3GvsD8Sp8s",
        "colab": {}
      },
      "source": [
        "#@title Upload Audio File (mp3)\n",
        "\n",
        "from google.colab import files\n",
        "uploaded = files.upload()\n"
      ],
      "execution_count": null,
      "outputs": []
    },
    {
      "cell_type": "code",
      "metadata": {
        "cellView": "form",
        "colab_type": "code",
        "id": "aIYEZ51HfQBL",
        "colab": {}
      },
      "source": [
        "#@title Rewrite file name\n",
        "import os\n",
        "\n",
        "for name, data in uploaded.items():\n",
        "  with open(name, 'wb') as f:\n",
        "    f.write(data)\n",
        "    os.rename(f.name, 'file.mp3')\n",
        "    print ('saved file with name:', name)"
      ],
      "execution_count": null,
      "outputs": []
    },
    {
      "cell_type": "markdown",
      "metadata": {
        "colab_type": "text",
        "id": "7t9yG_rxFcB9"
      },
      "source": [
        "## <a name=\"sources-separation\"></a>SOURCES SEPARATION \n",
        "\n",
        "![picture](https://www.researchgate.net/profile/Thanh_Duong11/publication/335339440/figure/fig2/AS:794976699047936@1566548623211/Audio-source-separation.ppm)"
      ]
    },
    {
      "cell_type": "markdown",
      "metadata": {
        "colab_type": "text",
        "id": "r_fLAuHVF-2X"
      },
      "source": [
        "### <a name=\"demucs-by-facebook\"></a>DEMUCS by Facebook\n",
        "\n",
        "It separates 4 sources: DRUMS, BASS, VOCALS and \"OTHERS\"\n",
        "\n",
        "Dataset : MusDB [[Website]](https://sigsep.github.io/datasets/musdb.html#musdb18-compressed-stems)\n",
        "\n",
        "Architecture: encoder/decoder compoased of a convolutional encoder, a bidirectional LSTM and a convolutional decoder. The encoder and decoder are linked with skip U-Net connections.\n",
        "\n",
        "![picture](https://techdroy.com/wp-content/uploads/2019/12/demucs-inteligencia-artificial-separa-canciones-pistas-scaled.png.webp)\n",
        "\n",
        "[[Github]](https://github.com/facebookresearch/demucs) [[Paper]](https://hal.archives-ouvertes.fr/hal-02379796/document)"
      ]
    },
    {
      "cell_type": "code",
      "metadata": {
        "cellView": "form",
        "colab_type": "code",
        "id": "gT3sOELijHN7",
        "colab": {}
      },
      "source": [
        "#@title Anaconda Download\n",
        "\n",
        "!wget -c https://repo.continuum.io/archive/Anaconda3-5.1.0-Linux-x86_64.sh"
      ],
      "execution_count": null,
      "outputs": []
    },
    {
      "cell_type": "code",
      "metadata": {
        "cellView": "form",
        "colab_type": "code",
        "id": "NyLLsdEtxn_M",
        "colab": {}
      },
      "source": [
        "#@title Permises\n",
        "\n",
        "!chmod +x Anaconda3-5.1.0-Linux-x86_64.sh"
      ],
      "execution_count": null,
      "outputs": []
    },
    {
      "cell_type": "code",
      "metadata": {
        "cellView": "form",
        "colab_type": "code",
        "id": "9KrckUQ7xrMo",
        "colab": {}
      },
      "source": [
        "#@title Anaconda Path\n",
        "\n",
        "!bash ./Anaconda3-5.1.0-Linux-x86_64.sh -b -f -p /usr/local"
      ],
      "execution_count": null,
      "outputs": []
    },
    {
      "cell_type": "code",
      "metadata": {
        "cellView": "form",
        "colab_type": "code",
        "id": "zs70cx-XxvlI",
        "colab": {}
      },
      "source": [
        "#@title Demucs Download\n",
        "import sys\n",
        "sys.path.append('/usr/local/lib/python3.7/site-packages/')\n",
        "\n",
        "!git clone https://github.com/facebookresearch/demucs"
      ],
      "execution_count": null,
      "outputs": []
    },
    {
      "cell_type": "code",
      "metadata": {
        "cellView": "form",
        "colab_type": "code",
        "id": "7S2V5dVHxwJc",
        "colab": {}
      },
      "source": [
        "#@title Go to Demucs Path\n",
        "\n",
        "os.chdir('demucs')"
      ],
      "execution_count": null,
      "outputs": []
    },
    {
      "cell_type": "code",
      "metadata": {
        "cellView": "form",
        "colab_type": "code",
        "id": "v3pCF7MxxyMJ",
        "colab": {}
      },
      "source": [
        "#@title Conda Update\n",
        "\n",
        "!conda update -n base conda"
      ],
      "execution_count": null,
      "outputs": []
    },
    {
      "cell_type": "code",
      "metadata": {
        "cellView": "form",
        "colab_type": "code",
        "id": "mb_77hKv6Z-G",
        "colab": {}
      },
      "source": [
        "#@title Demucs Model Download\n",
        "!conda env update -f environment-cpu.yml"
      ],
      "execution_count": null,
      "outputs": []
    },
    {
      "cell_type": "code",
      "metadata": {
        "cellView": "form",
        "colab_type": "code",
        "id": "rxIdZmlWx5dz",
        "colab": {}
      },
      "source": [
        "#@title Conda init\n",
        "\n",
        "!conda init bash"
      ],
      "execution_count": null,
      "outputs": []
    },
    {
      "cell_type": "code",
      "metadata": {
        "cellView": "form",
        "colab_type": "code",
        "id": "6LbvzNkkHQV9",
        "colab": {}
      },
      "source": [
        "#@title Demucs Activation\n",
        "!conda activate demucs\n"
      ],
      "execution_count": null,
      "outputs": []
    },
    {
      "cell_type": "code",
      "metadata": {
        "cellView": "form",
        "colab_type": "code",
        "id": "ZdKQm7Wfx_Gg",
        "colab": {}
      },
      "source": [
        "#@title Install Pytorch\n",
        "!pip install torch numpy scipy"
      ],
      "execution_count": null,
      "outputs": []
    },
    {
      "cell_type": "code",
      "metadata": {
        "cellView": "form",
        "colab_type": "code",
        "id": "up6OtnbjImP_",
        "colab": {}
      },
      "source": [
        "#@title Copy File in Demucs Directory\n",
        "!cp '/content/file.mp3' demucs/"
      ],
      "execution_count": null,
      "outputs": []
    },
    {
      "cell_type": "code",
      "metadata": {
        "cellView": "form",
        "colab_type": "code",
        "id": "XjE86VNaIybu",
        "colab": {}
      },
      "source": [
        "#@title Go to Demucs Directory\n",
        "!cd demucs"
      ],
      "execution_count": null,
      "outputs": []
    },
    {
      "cell_type": "code",
      "metadata": {
        "cellView": "form",
        "colab_type": "code",
        "id": "ODF_QUbRyC10",
        "colab": {}
      },
      "source": [
        "#@title Demucs Separation\n",
        "!pip install tqdm\n",
        "!python3 -m pip install -U lameenc #necesary to expot as .mp3\n",
        "!python3 -m demucs.separate --dl -n demucs --mp3 -d cpu '/content/file.mp3' "
      ],
      "execution_count": null,
      "outputs": []
    },
    {
      "cell_type": "code",
      "metadata": {
        "cellView": "form",
        "colab_type": "code",
        "id": "NcGyhc4OJcDL",
        "colab": {}
      },
      "source": [
        "#@title Create Directories\n",
        "!mkdir /output/\n",
        "!mkdir /output/demucs/"
      ],
      "execution_count": null,
      "outputs": []
    },
    {
      "cell_type": "code",
      "metadata": {
        "cellView": "form",
        "colab_type": "code",
        "id": "SO69eqZkJR0K",
        "colab": {}
      },
      "source": [
        "#@title Move Files\n",
        "!mv /content/demucs/separated/demucs/ /output/demucs/"
      ],
      "execution_count": null,
      "outputs": []
    },
    {
      "cell_type": "markdown",
      "metadata": {
        "colab_type": "text",
        "id": "kQQNg9d3GNm9"
      },
      "source": [
        "### <a name=\"spleeter-by-deezer\"></a>SPLEETER by Deezer\n",
        "\n",
        "\n",
        "![picture](https://lh3.googleusercontent.com/proxy/CNqC--BTKG0sl83gZTbWPk3xNs_JfgVkUn8uKX87n11gppZA6Fk00Ki5nvPxxnxvx9kvNaQ5P84hmxOcKAx1UhbAfxRKmmZmynocYwCSUXl_BXZ0SXUVLPnj_DRqCINEzqZ8zmlbsS_rwl2vtWQ)\n",
        "\n",
        "Pre-trained models:\n",
        "* Vocals (singing voice) / accompaniment separation (2 stems)\n",
        "* Vocals / drums / bass / other separation (4 stems)\n",
        "* Vocals / drums / bass / piano / other separation (5 stems)\n",
        "\n",
        "[[Github]](https://github.com/deezer/spleeter) [[GoogleColab]](https://colab.research.google.com/github/deezer/spleeter/blob/master/spleeter.ipynb)\n",
        "\n",
        "Papers: \n",
        "\n",
        "* Andreas Jansson, Eric J. Humphrey, Nicola Montecchio, Rachel Bittner, Aparna Kumar, and Tillman Weyde. Singingvoice  separation  with  deep  u-net  convolutional  networks.  InProceedings of the International Society for MusicInformation Retrieval Conference (ISMIR), pages 323–332, 2017. [[Link]](https://openaccess.city.ac.uk/id/eprint/19289/1/)\n",
        "\n",
        "![picture](https://d3i71xaburhd42.cloudfront.net/83ea11b45cba0fc7ee5d60f608edae9c1443861d/3-Figure1-1.png)\n",
        "\n",
        "Other references to see: \n",
        "\n",
        "* MIMILAKIS, Stylianos I.; DROSSOS, Konstantinos; SCHULLER, Gerald. Unsupervised Interpretable Representation Learning for Singing Voice Separation. arXiv preprint arXiv:2003.01567, 2020. [[Link]](https://arxiv.org/pdf/2003.01567.pdf)"
      ]
    },
    {
      "cell_type": "code",
      "metadata": {
        "cellView": "form",
        "colab_type": "code",
        "id": "iHkJaXFRFHaO",
        "colab": {}
      },
      "source": [
        "#@title ffmpeg installation\n",
        "\n",
        "!apt install ffmpeg"
      ],
      "execution_count": null,
      "outputs": []
    },
    {
      "cell_type": "code",
      "metadata": {
        "cellView": "form",
        "colab_type": "code",
        "id": "gesNchwdEfmN",
        "colab": {}
      },
      "source": [
        "#@title Spleeter Installation\n",
        "\n",
        "!pip install spleeter"
      ],
      "execution_count": null,
      "outputs": []
    },
    {
      "cell_type": "code",
      "metadata": {
        "cellView": "form",
        "colab_type": "code",
        "id": "L6A-2kbzllnX",
        "colab": {}
      },
      "source": [
        "#@title Create Spleeter Directory\n",
        "\n",
        "!mkdir /output/spleeter"
      ],
      "execution_count": null,
      "outputs": []
    },
    {
      "cell_type": "code",
      "metadata": {
        "cellView": "form",
        "colab_type": "code",
        "id": "TZ3CQOFXEsNJ",
        "colab": {}
      },
      "source": [
        "#@title Spleeter Separation\n",
        "!spleeter separate -i '/content/file.mp3' -p spleeter:4stems -o '/output/spleeter/' -c mp3"
      ],
      "execution_count": null,
      "outputs": []
    },
    {
      "cell_type": "code",
      "metadata": {
        "cellView": "form",
        "colab_type": "code",
        "id": "6coMH2aHzl92",
        "colab": {}
      },
      "source": [
        "#@title Path settings\n",
        "\n",
        "demucs_drums = '/output/demucs/demucs/file/drums.mp3'\n",
        "spleeter_drums = '/output/spleeter/file/drums.mp3'\n",
        "drums = [demucs_drums, spleeter_drums]\n",
        "\n",
        "demucs_bass = '/output/demucs/demucs/file/bass.mp3'\n",
        "spleeter_bass = '/output/spleeter/file/bass.mp3'\n",
        "bass = [demucs_bass, spleeter_bass]\n",
        "\n",
        "demucs_vocals = '/output/demucs/demucs/file/vocals.mp3'\n",
        "spleeter_vocals = '/output/spleeter/file/vocals.mp3'\n",
        "vocals = [demucs_vocals, spleeter_vocals]\n",
        "\n",
        "demucs_other = '/output/demucs/demucs/file/other.mp3'\n",
        "spleeter_other = '/output/spleeter/file/other.mp3'\n",
        "other = [demucs_other, spleeter_other]"
      ],
      "execution_count": null,
      "outputs": []
    },
    {
      "cell_type": "markdown",
      "metadata": {
        "colab_type": "text",
        "id": "iAL-2O92WbCV"
      },
      "source": [
        "## <a name=\"spleeter-vs-demucs\"></a>SPLEETER vs DEMUCS\n",
        "\n",
        "Once we have the audio file separated we just show the audio samples to listen to them"
      ]
    },
    {
      "cell_type": "code",
      "metadata": {
        "cellView": "form",
        "colab_type": "code",
        "id": "TD2nKhZQX7QR",
        "colab": {}
      },
      "source": [
        "#@title Play Song\n",
        "\n",
        "import IPython.display as ipd\n",
        "\n",
        "ipd.display(ipd.Audio('/content/file.mp3'))\n"
      ],
      "execution_count": null,
      "outputs": []
    },
    {
      "cell_type": "code",
      "metadata": {
        "cellView": "form",
        "colab_type": "code",
        "id": "P2JtFodjSDqd",
        "colab": {}
      },
      "source": [
        "#@title Drums Audios\n",
        " \n",
        "print('demucs drums')\n",
        "ipd.display(ipd.Audio(demucs_drums))\n",
        "print('spleeter drums')\n",
        "ipd.display(ipd.Audio(spleeter_drums))\n"
      ],
      "execution_count": null,
      "outputs": []
    },
    {
      "cell_type": "code",
      "metadata": {
        "cellView": "form",
        "colab_type": "code",
        "id": "izG9fvudYRh7",
        "colab": {}
      },
      "source": [
        "#@title Bass Audios\n",
        "print('demucs bass')\n",
        "ipd.display(ipd.Audio(demucs_bass))\n",
        "print('spleeter bass')\n",
        "ipd.display(ipd.Audio(spleeter_bass))"
      ],
      "execution_count": null,
      "outputs": []
    },
    {
      "cell_type": "code",
      "metadata": {
        "cellView": "form",
        "colab_type": "code",
        "id": "RmUFIu6rYXl5",
        "colab": {}
      },
      "source": [
        "#@title Vocals Audios\n",
        "\n",
        "print('demucs vocals')\n",
        "ipd.display(ipd.Audio(demucs_vocals))\n",
        "print('spleeter vocals')\n",
        "ipd.display(ipd.Audio(spleeter_vocals))"
      ],
      "execution_count": null,
      "outputs": []
    },
    {
      "cell_type": "code",
      "metadata": {
        "cellView": "form",
        "colab_type": "code",
        "id": "K9GSdwVvYZCy",
        "colab": {}
      },
      "source": [
        "#@title Other Audios\n",
        "\n",
        "print('demucs other')\n",
        "ipd.display(ipd.Audio(demucs_other))\n",
        "print('spleeter other')\n",
        "ipd.display(ipd.Audio(spleeter_other))"
      ],
      "execution_count": null,
      "outputs": []
    },
    {
      "cell_type": "code",
      "metadata": {
        "cellView": "form",
        "colab_type": "code",
        "id": "o2cx8oH6k4Jj",
        "colab": {}
      },
      "source": [
        "#@title Download Files - zip (optional)\n",
        "\n",
        "!zip -r output.zip /output/\n",
        "\n",
        "from google.colab import files\n",
        "files.download(\"output.zip\")"
      ],
      "execution_count": null,
      "outputs": []
    },
    {
      "cell_type": "markdown",
      "metadata": {
        "colab_type": "text",
        "id": "XXaOG9iabajq"
      },
      "source": [
        "### REFERENCES\n",
        "\n",
        "* Audio Source Separation (Signals and Communication Technology) (English Edition) 1st ed. 2018 Edition"
      ]
    }
  ]
}