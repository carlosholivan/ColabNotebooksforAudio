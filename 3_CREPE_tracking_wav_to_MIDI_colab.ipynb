{
  "nbformat": 4,
  "nbformat_minor": 0,
  "metadata": {
    "colab": {
      "name": "3.CREPE_tracking_wav_to_MIDI_colab.ipynb",
      "provenance": [],
      "collapsed_sections": [],
      "include_colab_link": true
    },
    "kernelspec": {
      "display_name": "Python 3",
      "language": "python",
      "name": "python3"
    },
    "language_info": {
      "codemirror_mode": {
        "name": "ipython",
        "version": 3
      },
      "file_extension": ".py",
      "mimetype": "text/x-python",
      "name": "python",
      "nbconvert_exporter": "python",
      "pygments_lexer": "ipython3",
      "version": "3.6.4"
    }
  },
  "cells": [
    {
      "cell_type": "markdown",
      "metadata": {
        "id": "view-in-github",
        "colab_type": "text"
      },
      "source": [
        "<a href=\"https://colab.research.google.com/github/carlosholivan/ColabNotebooksforAudio/blob/master/3_CREPE_tracking_wav_to_MIDI_colab.ipynb\" target=\"_parent\"><img src=\"https://colab.research.google.com/assets/colab-badge.svg\" alt=\"Open In Colab\"/></a>"
      ]
    },
    {
      "cell_type": "markdown",
      "metadata": {
        "colab_type": "text",
        "id": "wwdNACSIRDqz"
      },
      "source": [
        "<img src=\"https://www.unizar.es/sites/default/files/identidadCorporativa/imagen/logoUZ.png\"  width=\"480\">\n",
        "\n",
        "# <a name=\"top\"></a>WAV TO MIDI ISOLATED VOICE (21/05/2020)\n",
        "\n",
        "\n",
        "Authors: José Ramón Beltrán and Carlos Hernández\n",
        "\n",
        "Department of Electronic Engineering and Communications, Universidad de Zaragoza, Calle María de Luna 3, 50018 Zaragoza\n",
        "\n",
        "This notebook transforms a mono wav audio file into a MIDI file processing the pitch curve predicted by CREPE neural network."
      ]
    },
    {
      "cell_type": "markdown",
      "metadata": {
        "colab_type": "text",
        "id": "n_TSgDsERDq0"
      },
      "source": [
        "## Table of Contents\n",
        "\n",
        "- [1. CREPE Onsets Detection and Pitch Processing](#crepe)\n",
        "    - [1.1. Crepe Raw Pitch Curves](#crepe-extract)\n",
        "    - [1.2. Tracking Algorithm - MIDI Writing](#midi)\n",
        "    - [1.3. Results](#results)\n",
        "    - [1.4. Conclusions and Future Work](#crepe-conclusions)\n",
        "\n",
        "\n",
        "\n"
      ]
    },
    {
      "cell_type": "markdown",
      "metadata": {
        "colab_type": "text",
        "id": "kgfzWrSHoC4b"
      },
      "source": [
        "## INSTALLING DEPENDENCIES"
      ]
    },
    {
      "cell_type": "code",
      "metadata": {
        "cellView": "form",
        "colab_type": "code",
        "id": "jc4B7I9boFfg",
        "colab": {}
      },
      "source": [
        "#@title Install MIDIUtil\n",
        "!pip install MIDIUtil"
      ],
      "execution_count": null,
      "outputs": []
    },
    {
      "cell_type": "code",
      "metadata": {
        "cellView": "form",
        "colab_type": "code",
        "id": "YJPRnRnDoF4D",
        "colab": {}
      },
      "source": [
        "#@title Install Librosa\n",
        "\n",
        "!pip install librosa"
      ],
      "execution_count": null,
      "outputs": []
    },
    {
      "cell_type": "code",
      "metadata": {
        "cellView": "form",
        "colab_type": "code",
        "id": "mX9w__4WoKxX",
        "colab": {}
      },
      "source": [
        "#@title Install Google Magenta\n",
        "\n",
        "print('Installing dependencies...')\n",
        "!apt-get update -qq && apt-get install -qq libfluidsynth1 fluid-soundfont-gm build-essential libasound2-dev libjack-dev\n",
        "!pip install -qU pyfluidsynth pretty_midi\n",
        "\n",
        "!pip install -qU magenta\n",
        "\n",
        "# Hack to allow python to pick up the newly-installed fluidsynth lib. \n",
        "# This is only needed for the hosted Colab environment.\n",
        "import ctypes.util\n",
        "orig_ctypes_util_find_library = ctypes.util.find_library\n",
        "def proxy_find_library(lib):\n",
        "  if lib == 'fluidsynth':\n",
        "    return 'libfluidsynth.so.1'\n",
        "  else:\n",
        "    return orig_ctypes_util_find_library(lib)\n",
        "ctypes.util.find_library = proxy_find_library\n",
        "\n",
        "print('Importing libraries and defining some helper functions...')\n",
        "from google.colab import files\n",
        "\n",
        "import magenta.music as mm\n",
        "import magenta\n",
        "import tensorflow\n",
        "\n",
        "print('🎉 Done!')\n",
        "print(magenta.__version__)\n",
        "print(tensorflow.__version__)"
      ],
      "execution_count": null,
      "outputs": []
    },
    {
      "cell_type": "code",
      "metadata": {
        "cellView": "form",
        "colab_type": "code",
        "id": "l13-QfAzsfxP",
        "colab": {}
      },
      "source": [
        "#@title Clone CREPE\n",
        "\n",
        "!git clone https://github.com/marl/crepe.git"
      ],
      "execution_count": null,
      "outputs": []
    },
    {
      "cell_type": "code",
      "metadata": {
        "colab_type": "code",
        "id": "4vwtPzCBsjce",
        "colab": {}
      },
      "source": [
        "cd crepe/"
      ],
      "execution_count": null,
      "outputs": []
    },
    {
      "cell_type": "code",
      "metadata": {
        "cellView": "form",
        "colab_type": "code",
        "id": "YSmeCLiUsjxf",
        "colab": {}
      },
      "source": [
        "#@title Download CREPE trained models\n",
        "\n",
        "!python setup.py install"
      ],
      "execution_count": null,
      "outputs": []
    },
    {
      "cell_type": "code",
      "metadata": {
        "colab_type": "code",
        "id": "CVyJ3lRBsnUA",
        "colab": {}
      },
      "source": [
        "cd .."
      ],
      "execution_count": null,
      "outputs": []
    },
    {
      "cell_type": "code",
      "metadata": {
        "cellView": "form",
        "colab_type": "code",
        "id": "O4uM8yM-sngS",
        "colab": {}
      },
      "source": [
        "#@title Install Soundfile\n",
        "\n",
        "!pip install SoundFile"
      ],
      "execution_count": null,
      "outputs": []
    },
    {
      "cell_type": "code",
      "metadata": {
        "cellView": "form",
        "colab_type": "code",
        "id": "uQJFtD6VvR90",
        "colab": {}
      },
      "source": [
        "#@title Install hmmlearn\n",
        "\n",
        "!pip install git+https://github.com/hmmlearn/hmmlearn.git"
      ],
      "execution_count": null,
      "outputs": []
    },
    {
      "cell_type": "markdown",
      "metadata": {
        "colab_type": "text",
        "id": "CulVxXNaRDrV"
      },
      "source": [
        "<img src=\"https://4.bp.blogspot.com/-WELZsAfX1U0/Vl7UxvJNHdI/AAAAAAAAF34/9Kl1x1y0Uv4/s1600/separador.png\" style=\"width:500px;\"/>"
      ]
    },
    {
      "cell_type": "code",
      "metadata": {
        "cellView": "form",
        "colab_type": "code",
        "id": "6Wru4LrGsaEQ",
        "colab": {}
      },
      "source": [
        "#@title Upload Audio File (wav)\n",
        "import os\n",
        "\n",
        "from google.colab import files\n",
        "uploaded = files.upload()\n",
        "\n",
        "for name, data in uploaded.items():\n",
        "  with open(name, 'wb') as f:\n",
        "    f.write(data)\n",
        "    #os.rename(f.name, 'file.wav')\n",
        "    song = f.name[:-4]"
      ],
      "execution_count": null,
      "outputs": []
    },
    {
      "cell_type": "markdown",
      "metadata": {
        "colab_type": "text",
        "id": "PDoI2UiNRDrW"
      },
      "source": [
        "# <a name=\"crepe\"></a>1. CREPE PITCH TO MIDI"
      ]
    },
    {
      "cell_type": "code",
      "metadata": {
        "colab_type": "code",
        "id": "2J-WKEaURDrX",
        "colab": {}
      },
      "source": [
        "import scipy\n",
        "from scipy.io import wavfile\n",
        "from collections import Counter\n",
        "import soundfile\n",
        "import os\n",
        "import csv\n",
        "from midiutil import MIDIFile\n",
        "import numpy as np\n",
        "import matplotlib.pyplot as plt\n",
        "import IPython.display as ipd\n",
        "import librosa\n",
        "\n",
        "import sys\n",
        "sys.path.insert(1, 'crepe/crepe/')\n",
        "import core #this will allow us to run CREPE in the script to not generate a csv file"
      ],
      "execution_count": null,
      "outputs": []
    },
    {
      "cell_type": "code",
      "metadata": {
        "colab_type": "code",
        "id": "86SxcAO-RDre",
        "colab": {}
      },
      "source": [
        "\"-------------------------------------------------------------------------\"\n",
        "\"-----------------------STEP 1: CREATING 16bit WAV FILE-------------------\"\n",
        "\"-------------------------------------------------------------------------\"\n",
        "wav = song + '.wav'\n",
        "\n",
        "#Reading WAV attributes\n",
        "file = soundfile.SoundFile(wav)\n",
        "print('Sample rate: {}'.format(file.samplerate))\n",
        "print('Channels: {}'.format(file.channels))\n",
        "print('Subtype: {}'.format(file.subtype))\n",
        "\n",
        "#Crepe NN works with 16bit wav files so if the imported file is 24bit we\n",
        "#convert it into a 16bit wav file and we export it into another path\n",
        "if file.subtype == 'PCM_24':\n",
        "    data, samplerate = soundfile.read(wav)\n",
        "    soundfile.write('16bitwav_' + song + '.wav', data, samplerate, subtype='PCM_16')\n",
        "    wav_16bit = '16bitwav_' + song + '.wav'\n",
        "else:\n",
        "  wav_16bit = song + '.wav'"
      ],
      "execution_count": null,
      "outputs": []
    },
    {
      "cell_type": "markdown",
      "metadata": {
        "colab_type": "text",
        "id": "fldG1g5YRDrh"
      },
      "source": [
        "## <a name=\"crepe-extract\"></a>1.1. CREPE RAW PITCH CURVES"
      ]
    },
    {
      "cell_type": "markdown",
      "metadata": {
        "colab_type": "text",
        "id": "dwxrT6R0RDri"
      },
      "source": [
        "### <a name=\"crepe-pitch\"></a>1.1.1. CREPE PITCH EXTRACTION (PREDICTION)"
      ]
    },
    {
      "cell_type": "code",
      "metadata": {
        "colab_type": "code",
        "id": "ixQ08fy3RDri",
        "colab": {}
      },
      "source": [
        "\"----------------------PITCH ESTIMATION WITH CREPE NN---------------------\"    \n",
        "\"-------------------------STEP 2: CREPE PREDICTION------------------------\"\n",
        "\"-------------------------------------------------------------------------\"\n",
        "\n",
        "sr, audio = wavfile.read(wav_16bit)\n",
        "time, frequency, confidence, activation = core.predict(audio, sr, viterbi=True, step_size=10)"
      ],
      "execution_count": null,
      "outputs": []
    },
    {
      "cell_type": "markdown",
      "metadata": {
        "colab_type": "text",
        "id": "EXq-7IJgRDrl"
      },
      "source": [
        "#### PLOTTING"
      ]
    },
    {
      "cell_type": "markdown",
      "metadata": {
        "colab_type": "text",
        "id": "1smNAHV3RDrm"
      },
      "source": [
        "Pitch bins in activation curve are calculated as:\n",
        "\\begin{equation}\n",
        "pitchbin = 1200*log_2(\\frac{f}{10})\n",
        "\\end{equation}\n",
        "\n",
        "where 10Hz is the reference frequency.\n",
        "This unitprovides a logarithmic pitch scale where 100 cents equal one semitone"
      ]
    },
    {
      "cell_type": "code",
      "metadata": {
        "colab_type": "code",
        "id": "n2-OX-kVRDrm",
        "colab": {}
      },
      "source": [
        "#We can plot the activation curve from CREPE\n",
        "plt.figure(figsize=(20, 20))\n",
        "plt.title('Activation curve from CREPE')\n",
        "plt.xlabel('time (ms)')\n",
        "plt.ylabel('Pitch bins')\n",
        "plt.imshow(1-activation.T, origin='lower', cmap='gray')  \n",
        "\n",
        "#We can plot the activation curve from CREPE with frequency an time variables\n",
        "plt.figure(figsize=(20, 5))\n",
        "plt.title('Activation curve from CREPE (f0, t)')\n",
        "plt.xlabel('time (s)')\n",
        "plt.ylabel('Fundamental frequency (Hz)')\n",
        "plt.plot(time, frequency)"
      ],
      "execution_count": null,
      "outputs": []
    },
    {
      "cell_type": "markdown",
      "metadata": {
        "colab_type": "text",
        "id": "ReoLQ__cRDsM"
      },
      "source": [
        "## <a name=\"midi\"></a>1.1.2. TRACKING ALGORITHM - MIDI WRITING"
      ]
    },
    {
      "cell_type": "markdown",
      "metadata": {
        "colab_type": "text",
        "id": "2M-b-0vVRDsP"
      },
      "source": [
        "We now have to convert the frequencies to MIDI notes\n",
        "\n",
        "The way to convert f0 to a MIDI note is:\n",
        "\\begin{equation}\n",
        "MIDInote = 12*(log_2(f) - log_2(440)) + 69 \n",
        "\\end{equation}"
      ]
    },
    {
      "cell_type": "markdown",
      "metadata": {
        "colab_type": "text",
        "id": "d8G8j3JXRDsP"
      },
      "source": [
        "<img src=\"https://i.pinimg.com/originals/fe/13/eb/fe13ebb344f12175dca1b0a63617bf73.gif\" style=\"width:500px;\"/>"
      ]
    },
    {
      "cell_type": "code",
      "metadata": {
        "colab_type": "code",
        "id": "fWX1l_GfQXnM",
        "colab": {}
      },
      "source": [
        "#frequencies to MIDI notes are represented by the function\n",
        "x = np.arange(27.5, 3500, 1)\n",
        "\n",
        "mid_notes_f = [12*(np.log2(p) - np.log2(440)) + 69 for p in x]\n",
        "\n",
        "plt.figure(figsize=(20, 10))\n",
        "plt.plot(mid_notes_f, x, linewidth=3.0)\n",
        "plt.xlabel('MIDI note')\n",
        "plt.ylabel('Frequency')"
      ],
      "execution_count": null,
      "outputs": []
    },
    {
      "cell_type": "markdown",
      "metadata": {
        "colab_type": "text",
        "id": "1ToT_6BVKa7H"
      },
      "source": [
        "We'll write 2 MIDI files:\n",
        "* 1. CREPE_raw: MIDI file written directly from CREPE pitch curve\n",
        "* 2. CREPE_tracked: MIDI file written after removing frequencies which conficence < min_confidence and joining continous notes"
      ]
    },
    {
      "cell_type": "code",
      "metadata": {
        "colab_type": "code",
        "id": "xbW-aMspQUck",
        "colab": {}
      },
      "source": [
        "#f0 to MIDI notes\n",
        "midi_notes = [12*(np.log2(i) - np.log2(440.0)) + 69 for i in frequency] \n",
        "\n",
        "#Minimum confidence of the presence of a pitch to take as a valid pitch\n",
        "min_confidence = 0.85"
      ],
      "execution_count": null,
      "outputs": []
    },
    {
      "cell_type": "code",
      "metadata": {
        "colab_type": "code",
        "id": "aqPr2wYzKKJU",
        "colab": {}
      },
      "source": [
        "\"-------------------------------------------------------------------------\"\n",
        "\"-----------------------RAW CREPE PITCH CURVE TO MIDI---------------------\"\n",
        "\"-------------------------------------------------------------------------\"    \n",
        "# create your MIDI object\n",
        "mf_raw = MIDIFile(numTracks = 1)     # only 1 track\n",
        "track_raw = 0   # the only track\n",
        "\n",
        "time_note_raw = 0    # start at the beginning\n",
        "bpm = 110\n",
        "mf_raw.addTrackName(track_raw, time_note_raw, \"Sample Track\")\n",
        "mf_raw.addTempo(track_raw, time_note_raw, bpm)\n",
        "ms_in_1beat = 60000/bpm\n",
        "\n",
        "# add some notes\n",
        "channel_raw = 0\n",
        "volume_raw = 100\n",
        "\n",
        "pitch_raw_list = []\n",
        "note_on_raw_list = []\n",
        "note_off_raw_list = []\n",
        "for i in range(len(frequency)-1):\n",
        "    pitch = int(round(midi_notes[i])) #write MIDi note     \n",
        "    note_on_raw = time[i]*1000 / ms_in_1beat          \n",
        "    note_off_raw = time[i+1]*1000 / ms_in_1beat \n",
        "    duration = note_off_raw - note_on_raw\n",
        "    mf_raw.addNote(track_raw, channel_raw, pitch, note_on_raw, duration, volume_raw)\n",
        "    \n",
        "    pitch_raw_list.append(pitch)\n",
        "    note_on_raw_list.append(note_on_raw*ms_in_1beat/1000)\n",
        "    note_off_raw_list.append(note_off_raw*ms_in_1beat/1000)\n",
        "    \n",
        "# write it to disk\n",
        "with open('CREPE_raw_' + song + '.mid', 'wb') as outf:\n",
        "    mf_raw.writeFile(outf)\n",
        "\n",
        "print(\"CREPE MIDI file has been created\")"
      ],
      "execution_count": null,
      "outputs": []
    },
    {
      "cell_type": "code",
      "metadata": {
        "colab_type": "code",
        "id": "NNNcxPwjQ13G",
        "colab": {}
      },
      "source": [
        "\"-------------------------------------------------------------------------\"\n",
        "\"--------------------------TRACKING ALGORITHM-----------------------------\"\n",
        "\"-------------------------------------------------------------------------\" \n",
        "# create your MIDI object\n",
        "mf_raw_clean = MIDIFile(numTracks = 1)     # only 1 track\n",
        "track_raw = 0   # the only track\n",
        "\n",
        "time_note_raw = 0    # start at the beginning\n",
        "bpm = 110\n",
        "mf_raw_clean.addTrackName(track_raw, time_note_raw, \"Sample Track\")\n",
        "mf_raw_clean.addTempo(track_raw, time_note_raw, bpm)\n",
        "ms_in_1beat = 60000/bpm\n",
        "\n",
        "# add some notes\n",
        "channel_raw = 0\n",
        "volume_raw = 100\n",
        "\n",
        "pitch_list = []\n",
        "note_on_list = []\n",
        "note_off_list = []\n",
        "j = 0\n",
        "for i in range(len(time)-1):  \n",
        "    if j > len(time)-1:\n",
        "        break\n",
        "    if j != 0:\n",
        "        i = j\n",
        "    if confidence[i] > min_confidence: #if confidence is low we don't write the note \n",
        "        note_on = time[i]*1000 / ms_in_1beat\n",
        "        j = i\n",
        "        while ((round(midi_notes[j+1]) - round(midi_notes[j])) <= 0.0) and (confidence[j] > min_confidence): #we search pitches that are the same in the future frames            j += 1\n",
        "            if j >= len(time)-1:\n",
        "                break\n",
        "\n",
        "        note_off = time[j]*1000 / ms_in_1beat\n",
        "            \n",
        "        pitch = int(round(midi_notes[i]))\n",
        "        duration = note_off - note_on\n",
        "        \n",
        "        if duration > 0.05*ms_in_1beat/1000: #if duration<50ms don't write the note\n",
        "            pitch_list.append(pitch)\n",
        "            note_on_list.append(note_on*ms_in_1beat/1000)\n",
        "            note_off_list.append(note_off*ms_in_1beat/1000)\n",
        "            mf_raw_clean.addNote(track_raw, channel_raw, pitch, note_on, duration, volume_raw)\n",
        "        else:\n",
        "            j+=1\n",
        "    else:\n",
        "        j +=1\n",
        "\n",
        "# write it to disk\n",
        "with open('CREPE_tracked_' + song + '.mid', 'wb') as outf:\n",
        "    mf_raw_clean.writeFile(outf)\n",
        "\n",
        "print(\"CREPE MIDI file has been created\")"
      ],
      "execution_count": null,
      "outputs": []
    },
    {
      "cell_type": "code",
      "metadata": {
        "colab_type": "code",
        "id": "MquR3cgqPJu1",
        "colab": {}
      },
      "source": [
        "#General function to plot piano-roll representation + midi and wav comparation\n",
        "import bokeh \n",
        "import magenta.music as mm\n",
        "\n",
        "def midi_pianoroll(file):\n",
        "    print(file)\n",
        "\n",
        "    note_seq = mm.midi_file_to_sequence_proto(file)\n",
        "\n",
        "    # This is a colab utility method that visualizes a NoteSequence.\n",
        "    fig = mm.plot_sequence(note_seq, show_figure=False)\n",
        "    bokeh.plotting.output_notebook()\n",
        "    bokeh.plotting.show(fig)\n",
        "\n",
        "    # This is a colab utility method that plays a NoteSequence.\n",
        "    mm.play_sequence(note_seq,synth=mm.fluidsynth)\n",
        "    return"
      ],
      "execution_count": null,
      "outputs": []
    },
    {
      "cell_type": "code",
      "metadata": {
        "colab_type": "code",
        "id": "QkcNX_9lRDsU",
        "colab": {}
      },
      "source": [
        "#original song\n",
        "ipd.Audio(wav_16bit, rate=sr)"
      ],
      "execution_count": null,
      "outputs": []
    },
    {
      "cell_type": "code",
      "metadata": {
        "colab_type": "code",
        "id": "PXAxANW2K3I3",
        "colab": {}
      },
      "source": [
        "\"-------------------MIDI-------------------------\"\n",
        "#MIDI file from raw pitch curve\n",
        "file = 'CREPE_raw_' + song + '.mid'\n",
        "midi_pianoroll(file)"
      ],
      "execution_count": null,
      "outputs": []
    },
    {
      "cell_type": "code",
      "metadata": {
        "colab_type": "code",
        "id": "DDLxYuLORC6K",
        "colab": {}
      },
      "source": [
        "\"-------------------MIDI-------------------------\"\n",
        "#MIDI file from raw pitch curve\n",
        "file = 'CREPE_tracked_' + song + '.mid'\n",
        "midi_pianoroll(file)"
      ],
      "execution_count": null,
      "outputs": []
    },
    {
      "cell_type": "code",
      "metadata": {
        "colab_type": "code",
        "id": "fZlzlVnORFXM",
        "colab": {}
      },
      "source": [
        "#Plotting results\n",
        "from matplotlib.ticker import MultipleLocator\n",
        "def plot_pianoroll(pitch_list, note_on_list, note_off_list, plot_title=''):\n",
        "    plt.style.use('dark_background')\n",
        "    fig, ax = plt.subplots(figsize=(20, 5))\n",
        "    plt.title(plot_title)\n",
        "    plt.xlabel('time s')\n",
        "    plt.ylabel('Pitch')\n",
        "    for p, pitch in enumerate(pitch_list):\n",
        "        plt.vlines(x=note_on_list[p], ymin=pitch, ymax=pitch+1,\n",
        "                   color='#E8B2FF', linewidth=0.01)\n",
        "        ax.add_patch(plt.Rectangle((note_on_list[p],pitch), \n",
        "                                 width=note_off_list[p]-note_on_list[p],\n",
        "                                 height=1,\n",
        "                                 edgecolor='#E8B2FF',facecolor='#C232FF'))\n",
        "    ax.yaxis.set_major_locator(MultipleLocator(1))\n",
        "    ax.yaxis.grid(linewidth=0.25)\n",
        "    ax.set_facecolor('#282828')\n",
        "    return\n",
        "\n",
        "plot_pianoroll(pitch_raw_list, note_on_raw_list, note_off_raw_list, 'Activation raw curve from CREPE')\n",
        "\n",
        "plot_pianoroll(pitch_list, note_on_list, note_off_list,\n",
        "               'Activation curve from CREPE after joining notes and removing f0 which confidence < {}'.format(min_confidence))"
      ],
      "execution_count": null,
      "outputs": []
    },
    {
      "cell_type": "code",
      "metadata": {
        "colab_type": "code",
        "id": "VOMQLWZGhYjT",
        "colab": {}
      },
      "source": [
        "#Comparison plot\n",
        "fig, ax = plt.subplots(figsize=(20, 5))\n",
        "plt.title('Comparison between raw (yellow) and tracked (purple) MIDI files')\n",
        "plt.xlabel('time s')\n",
        "plt.ylabel('Pitch')\n",
        "for p, pitch in enumerate(pitch_raw_list):\n",
        "    plt.vlines(x=note_on_raw_list[p], ymin=pitch, ymax=pitch+1,\n",
        "               color='#6CFF9A', linewidth=0.01)\n",
        "    ax.add_patch(plt.Rectangle((note_on_raw_list[p],pitch), \n",
        "                                 width=note_off_raw_list[p]-note_on_raw_list[p],\n",
        "                                 height=1,\n",
        "                                 edgecolor='#6CFF9A',facecolor='#0AFE57'))\n",
        "for p, pitch in enumerate(pitch_list):\n",
        "    plt.vlines(x=note_on_list[p], ymin=pitch, ymax=pitch+1,\n",
        "               color='#E8B2FF', linewidth=0.01)\n",
        "    ax.add_patch(plt.Rectangle((note_on_list[p],pitch), \n",
        "                                 width=note_off_list[p]-note_on_list[p],\n",
        "                                 height=1,\n",
        "                                 edgecolor='#E8B2FF',facecolor='#C232FF'))\n",
        "ax.yaxis.set_major_locator(MultipleLocator(1))\n",
        "ax.yaxis.grid(linewidth=0.25)\n",
        "ax.set_facecolor('#282828')\n"
      ],
      "execution_count": null,
      "outputs": []
    },
    {
      "cell_type": "code",
      "metadata": {
        "cellView": "form",
        "colab_type": "code",
        "id": "BY7D8JMjR3V8",
        "colab": {}
      },
      "source": [
        "#@title Download Raw MIDI File (optional)\n",
        "\n",
        "files.download('CREPE_raw_' + song + '.mid')"
      ],
      "execution_count": null,
      "outputs": []
    },
    {
      "cell_type": "code",
      "metadata": {
        "cellView": "form",
        "colab_type": "code",
        "id": "pIcWkMvlR7cM",
        "colab": {}
      },
      "source": [
        "#@title Download Tracked MIDI File (optional)\n",
        "\n",
        "files.download('CREPE_tracked_' + song + '.mid')"
      ],
      "execution_count": null,
      "outputs": []
    },
    {
      "cell_type": "markdown",
      "metadata": {
        "colab_type": "text",
        "id": "uaE92RFdRDsZ"
      },
      "source": [
        "## <a name=\"crepe-conclusions\"></a>1.5. CONCLUSIONS AND FUTURE WORK\n",
        "\n",
        "* Join notes whose pitch is equal to the previous ones but which have been isolated (because of the confidence...)"
      ]
    },
    {
      "cell_type": "markdown",
      "metadata": {
        "colab_type": "text",
        "id": "Y0eyU0r5RDsZ"
      },
      "source": [
        "<a href=\"#top\">Back to top</a>"
      ]
    },
    {
      "cell_type": "markdown",
      "metadata": {
        "colab_type": "text",
        "id": "JO9z0VeXRDs0"
      },
      "source": [
        "## REFERENCES\n",
        "\n",
        "* https://github.com/marl/crepe"
      ]
    },
    {
      "cell_type": "markdown",
      "metadata": {
        "colab_type": "text",
        "id": "NGq3eXdSUgbg"
      },
      "source": [
        "<img src=\"https://4.bp.blogspot.com/-WELZsAfX1U0/Vl7UxvJNHdI/AAAAAAAAF34/9Kl1x1y0Uv4/s1600/separador.png\" style=\"width:500px;\"/>"
      ]
    }
  ]
}